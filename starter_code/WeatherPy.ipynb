{
 "cells": [
  {
   "cell_type": "markdown",
   "metadata": {},
   "source": [
    "# WeatherPy\n",
    "----\n",
    "\n",
    "#### Note\n",
    "* Instructions have been included for each segment. You do not have to follow them exactly, but they are included to help you think through the steps."
   ]
  },
  {
   "cell_type": "code",
   "execution_count": 1,
   "metadata": {
    "scrolled": true
   },
   "outputs": [],
   "source": [
    "# Dependencies and Setup\n",
    "import matplotlib.pyplot as plt\n",
    "import pandas as pd\n",
    "import numpy as np\n",
    "import requests\n",
    "import time\n",
    "import openweathermapy.core as owm\n",
    "import openweathermapy as ow\n",
    "import json\n",
    "import pprint\n",
    "\n",
    "# Import API key\n",
    "from api_keys import api_key\n",
    "\n",
    "# Incorporated citipy to determine city based on latitude and longitude\n",
    "from citipy import citipy\n",
    "\n",
    "# Output File (CSV)\n",
    "output_data_file = \"../output_data/cities.csv\"\n",
    "\n",
    "# Range of latitudes and longitudes\n",
    "lat_range = (-90, 90)\n",
    "lng_range = (-180, 180)"
   ]
  },
  {
   "cell_type": "markdown",
   "metadata": {},
   "source": [
    "## Generate Cities List"
   ]
  },
  {
   "cell_type": "code",
   "execution_count": 2,
   "metadata": {},
   "outputs": [
    {
     "data": {
      "text/plain": [
       "641"
      ]
     },
     "execution_count": 2,
     "metadata": {},
     "output_type": "execute_result"
    }
   ],
   "source": [
    "# List for holding lat_lngs and cities\n",
    "lat_lngs = []\n",
    "cities = []\n",
    "\n",
    "# Create a set of random lat and lng combinations\n",
    "lats = np.random.uniform(low=-90.000, high=90.000, size=1500)\n",
    "lngs = np.random.uniform(low=-180.000, high=180.000, size=1500)\n",
    "lat_lngs = zip(lats, lngs)\n",
    "\n",
    "# Identify nearest city for each lat, lng combination\n",
    "for lat_lng in lat_lngs:\n",
    "    city = citipy.nearest_city(lat_lng[0], lat_lng[1]).city_name\n",
    "    \n",
    "    # If the city is unique, then add it to a our cities list\n",
    "    if city not in cities:\n",
    "        cities.append(city)\n",
    "\n",
    "# Print the city count to confirm sufficient count\n",
    "len(cities)\n",
    "\n"
   ]
  },
  {
   "cell_type": "code",
   "execution_count": 3,
   "metadata": {},
   "outputs": [],
   "source": [
    "cities_df = pd.DataFrame(cities)"
   ]
  },
  {
   "cell_type": "code",
   "execution_count": 4,
   "metadata": {},
   "outputs": [
    {
     "data": {
      "text/html": [
       "<div>\n",
       "<style scoped>\n",
       "    .dataframe tbody tr th:only-of-type {\n",
       "        vertical-align: middle;\n",
       "    }\n",
       "\n",
       "    .dataframe tbody tr th {\n",
       "        vertical-align: top;\n",
       "    }\n",
       "\n",
       "    .dataframe thead th {\n",
       "        text-align: right;\n",
       "    }\n",
       "</style>\n",
       "<table border=\"1\" class=\"dataframe\">\n",
       "  <thead>\n",
       "    <tr style=\"text-align: right;\">\n",
       "      <th></th>\n",
       "      <th>City</th>\n",
       "    </tr>\n",
       "  </thead>\n",
       "  <tbody>\n",
       "    <tr>\n",
       "      <th>0</th>\n",
       "      <td>naryan-mar</td>\n",
       "    </tr>\n",
       "    <tr>\n",
       "      <th>1</th>\n",
       "      <td>vaini</td>\n",
       "    </tr>\n",
       "    <tr>\n",
       "      <th>2</th>\n",
       "      <td>peyima</td>\n",
       "    </tr>\n",
       "    <tr>\n",
       "      <th>3</th>\n",
       "      <td>ganzhou</td>\n",
       "    </tr>\n",
       "    <tr>\n",
       "      <th>4</th>\n",
       "      <td>amderma</td>\n",
       "    </tr>\n",
       "  </tbody>\n",
       "</table>\n",
       "</div>"
      ],
      "text/plain": [
       "         City\n",
       "0  naryan-mar\n",
       "1       vaini\n",
       "2      peyima\n",
       "3     ganzhou\n",
       "4     amderma"
      ]
     },
     "execution_count": 4,
     "metadata": {},
     "output_type": "execute_result"
    }
   ],
   "source": [
    "cities_df.columns = ['City']\n",
    "cities_df.head()"
   ]
  },
  {
   "cell_type": "code",
   "execution_count": 5,
   "metadata": {},
   "outputs": [],
   "source": [
    "export_csv = cities_df.to_csv('output_data/cities.csv', encoding='utf-8', index=False)"
   ]
  },
  {
   "cell_type": "code",
   "execution_count": 6,
   "metadata": {},
   "outputs": [
    {
     "data": {
      "text/html": [
       "<div>\n",
       "<style scoped>\n",
       "    .dataframe tbody tr th:only-of-type {\n",
       "        vertical-align: middle;\n",
       "    }\n",
       "\n",
       "    .dataframe tbody tr th {\n",
       "        vertical-align: top;\n",
       "    }\n",
       "\n",
       "    .dataframe thead th {\n",
       "        text-align: right;\n",
       "    }\n",
       "</style>\n",
       "<table border=\"1\" class=\"dataframe\">\n",
       "  <thead>\n",
       "    <tr style=\"text-align: right;\">\n",
       "      <th></th>\n",
       "      <th>City</th>\n",
       "    </tr>\n",
       "  </thead>\n",
       "  <tbody>\n",
       "    <tr>\n",
       "      <th>0</th>\n",
       "      <td>naryan-mar</td>\n",
       "    </tr>\n",
       "    <tr>\n",
       "      <th>1</th>\n",
       "      <td>vaini</td>\n",
       "    </tr>\n",
       "    <tr>\n",
       "      <th>2</th>\n",
       "      <td>peyima</td>\n",
       "    </tr>\n",
       "    <tr>\n",
       "      <th>3</th>\n",
       "      <td>ganzhou</td>\n",
       "    </tr>\n",
       "    <tr>\n",
       "      <th>4</th>\n",
       "      <td>amderma</td>\n",
       "    </tr>\n",
       "  </tbody>\n",
       "</table>\n",
       "</div>"
      ],
      "text/plain": [
       "         City\n",
       "0  naryan-mar\n",
       "1       vaini\n",
       "2      peyima\n",
       "3     ganzhou\n",
       "4     amderma"
      ]
     },
     "execution_count": 6,
     "metadata": {},
     "output_type": "execute_result"
    }
   ],
   "source": [
    "cities_dft = pd.read_csv('output_data/cities.csv')\n",
    "cities_dft.head()"
   ]
  },
  {
   "cell_type": "code",
   "execution_count": 7,
   "metadata": {},
   "outputs": [],
   "source": [
    "cities_dft.reset_index(drop=True, inplace=True)"
   ]
  },
  {
   "cell_type": "code",
   "execution_count": 8,
   "metadata": {},
   "outputs": [],
   "source": [
    "settings = {\"appid\": api_key, \"units\": \"metric\"}"
   ]
  },
  {
   "cell_type": "code",
   "execution_count": 9,
   "metadata": {},
   "outputs": [],
   "source": [
    "units = [\"metric\"]"
   ]
  },
  {
   "cell_type": "code",
   "execution_count": 10,
   "metadata": {},
   "outputs": [],
   "source": [
    "url = \"http://api.openweathermap.org/data/2.5/weather?\""
   ]
  },
  {
   "cell_type": "code",
   "execution_count": 11,
   "metadata": {},
   "outputs": [],
   "source": [
    "query_url = url + \"appid=\" + api_key + \"&q=\" + city"
   ]
  },
  {
   "cell_type": "code",
   "execution_count": 12,
   "metadata": {},
   "outputs": [
    {
     "name": "stdout",
     "output_type": "stream",
     "text": [
      "<Response [200]>\n"
     ]
    }
   ],
   "source": [
    "print(requests.get(query_url))"
   ]
  },
  {
   "cell_type": "code",
   "execution_count": null,
   "metadata": {},
   "outputs": [],
   "source": [
    "keys = [\"clouds.all\", \"sys.country\", \"dt\", \"main.temp\", \"main.humidity\", \"coord.lat\", \"coord.lon\", \"main.temp_max\", \"wind.speed\"]"
   ]
  },
  {
   "cell_type": "code",
   "execution_count": null,
   "metadata": {},
   "outputs": [
    {
     "name": "stdout",
     "output_type": "stream",
     "text": [
      "City number 1 is, City    naryan-mar\n",
      "Name: 0, dtype: object\n",
      "City number 2 is, City    vaini\n",
      "Name: 1, dtype: object\n",
      "City number 3 is, City    peyima\n",
      "Name: 2, dtype: object\n",
      "City number 4 is, City    ganzhou\n",
      "Name: 3, dtype: object\n",
      "City number 5 is, City    amderma\n",
      "Name: 4, dtype: object\n",
      "City number 6 is, City    busselton\n",
      "Name: 5, dtype: object\n",
      "City number 7 is, City    namatanai\n",
      "Name: 6, dtype: object\n",
      "City number 8 is, City    new norfolk\n",
      "Name: 7, dtype: object\n",
      "City number 9 is, City    rikitea\n",
      "Name: 8, dtype: object\n",
      "City number 10 is, City    chokurdakh\n",
      "Name: 9, dtype: object\n",
      "City number 11 is, City    qaanaaq\n",
      "Name: 10, dtype: object\n",
      "City number 12 is, City    longyearbyen\n",
      "Name: 11, dtype: object\n",
      "City number 13 is, City    barrow\n",
      "Name: 12, dtype: object\n",
      "City number 14 is, City    uyuni\n",
      "Name: 13, dtype: object\n",
      "City number 15 is, City    jamestown\n",
      "Name: 14, dtype: object\n",
      "City number 16 is, City    sentyabrskiy\n",
      "Name: 15, dtype: object\n",
      "City number 17 is, City    saldanha\n",
      "Name: 16, dtype: object\n",
      "City number 18 is, City    vila velha\n",
      "Name: 17, dtype: object\n",
      "City number 19 is, City    ahuimanu\n",
      "Name: 18, dtype: object\n",
      "City number 20 is, City    hobart\n",
      "Name: 19, dtype: object\n",
      "City number 21 is, City    la ronge\n",
      "Name: 20, dtype: object\n",
      "City number 22 is, City    komsomolskiy\n",
      "Name: 21, dtype: object\n",
      "City number 23 is, City    yellowknife\n",
      "Name: 22, dtype: object\n",
      "City number 24 is, City    port alfred\n",
      "Name: 23, dtype: object\n",
      "City number 25 is, City    albany\n",
      "Name: 24, dtype: object\n",
      "City number 26 is, City    tasiilaq\n",
      "Name: 25, dtype: object\n",
      "City number 27 is, City    nizhneyansk\n",
      "Name: 26, dtype: object\n",
      "City number 28 is, City    vorontsovka\n",
      "Name: 27, dtype: object\n",
      "City number 29 is, City    kulhudhuffushi\n",
      "Name: 28, dtype: object\n",
      "City number 30 is, City    pachino\n",
      "Name: 29, dtype: object\n",
      "City number 31 is, City    waingapu\n",
      "Name: 30, dtype: object\n",
      "City number 32 is, City    lebu\n",
      "Name: 31, dtype: object\n",
      "City number 33 is, City    taltal\n",
      "Name: 32, dtype: object\n",
      "City number 34 is, City    victoria\n",
      "Name: 33, dtype: object\n",
      "City number 35 is, City    san patricio\n",
      "Name: 34, dtype: object\n",
      "City number 36 is, City    mezen\n",
      "Name: 35, dtype: object\n",
      "City number 37 is, City    illoqqortoormiut\n",
      "Name: 36, dtype: object\n",
      "City number 38 is, City    thompson\n",
      "Name: 37, dtype: object\n",
      "City number 39 is, City    attawapiskat\n",
      "Name: 38, dtype: object\n",
      "City number 40 is, City    barentsburg\n",
      "Name: 39, dtype: object\n",
      "City number 41 is, City    alofi\n",
      "Name: 40, dtype: object\n",
      "City number 42 is, City    hilo\n",
      "Name: 41, dtype: object\n",
      "City number 43 is, City    nome\n",
      "Name: 42, dtype: object\n",
      "City number 44 is, City    paraiso\n",
      "Name: 43, dtype: object\n",
      "City number 45 is, City    souillac\n",
      "Name: 44, dtype: object\n",
      "City number 46 is, City    sola\n",
      "Name: 45, dtype: object\n",
      "City number 47 is, City    bluff\n",
      "Name: 46, dtype: object\n",
      "City number 48 is, City    labutta\n",
      "Name: 47, dtype: object\n",
      "City number 49 is, City    sao felix do xingu\n",
      "Name: 48, dtype: object\n",
      "City number 50 is, City    tumannyy\n",
      "Name: 49, dtype: object\n",
      "City number 51 is, City    punta arenas\n",
      "Name: 50, dtype: object\n",
      "City number 52 is, City    cherskiy\n",
      "Name: 51, dtype: object\n",
      "City number 53 is, City    umzimvubu\n",
      "Name: 52, dtype: object\n",
      "City number 54 is, City    acarau\n",
      "Name: 53, dtype: object\n",
      "City number 55 is, City    kushima\n",
      "Name: 54, dtype: object\n",
      "City number 56 is, City    ixtapa\n",
      "Name: 55, dtype: object\n",
      "City number 57 is, City    maniitsoq\n",
      "Name: 56, dtype: object\n",
      "City number 58 is, City    cabo san lucas\n",
      "Name: 57, dtype: object\n",
      "City number 59 is, City    picota\n",
      "Name: 58, dtype: object\n",
      "City number 60 is, City    srednekolymsk\n",
      "Name: 59, dtype: object\n",
      "City number 61 is, City    lima\n",
      "Name: 60, dtype: object\n",
      "City number 62 is, City    zheleznodorozhnyy\n",
      "Name: 61, dtype: object\n",
      "City number 63 is, City    salalah\n",
      "Name: 62, dtype: object\n",
      "City number 64 is, City    butaritari\n",
      "Name: 63, dtype: object\n",
      "City number 65 is, City    airai\n",
      "Name: 64, dtype: object\n",
      "City number 66 is, City    mataura\n",
      "Name: 65, dtype: object\n",
      "City number 67 is, City    tyukhtet\n",
      "Name: 66, dtype: object\n",
      "City number 68 is, City    tirur\n",
      "Name: 67, dtype: object\n",
      "City number 69 is, City    hermanus\n",
      "Name: 68, dtype: object\n",
      "City number 70 is, City    avera\n",
      "Name: 69, dtype: object\n",
      "City number 71 is, City    seymchan\n",
      "Name: 70, dtype: object\n",
      "City number 72 is, City    fortuna\n",
      "Name: 71, dtype: object\n",
      "City number 73 is, City    atambua\n",
      "Name: 72, dtype: object\n",
      "City number 74 is, City    andros town\n",
      "Name: 73, dtype: object\n",
      "City number 75 is, City    le port\n",
      "Name: 74, dtype: object\n",
      "City number 76 is, City    kamenskoye\n",
      "Name: 75, dtype: object\n",
      "City number 77 is, City    severo-kurilsk\n",
      "Name: 76, dtype: object\n",
      "City number 78 is, City    ardesen\n",
      "Name: 77, dtype: object\n",
      "City number 79 is, City    bridgetown\n",
      "Name: 78, dtype: object\n",
      "City number 80 is, City    nikolskoye\n",
      "Name: 79, dtype: object\n",
      "City number 81 is, City    ushuaia\n",
      "Name: 80, dtype: object\n",
      "City number 82 is, City    eisenhuttenstadt\n",
      "Name: 81, dtype: object\n",
      "City number 83 is, City    belushya guba\n",
      "Name: 82, dtype: object\n",
      "City number 84 is, City    buenaventura\n",
      "Name: 83, dtype: object\n",
      "City number 85 is, City    egvekinot\n",
      "Name: 84, dtype: object\n",
      "City number 86 is, City    santa maria\n",
      "Name: 85, dtype: object\n",
      "City number 87 is, City    dikson\n",
      "Name: 86, dtype: object\n",
      "City number 88 is, City    carnarvon\n",
      "Name: 87, dtype: object\n",
      "City number 89 is, City    zyryanskoye\n",
      "Name: 88, dtype: object\n",
      "City number 90 is, City    marcona\n",
      "Name: 89, dtype: object\n",
      "City number 91 is, City    taolanaro\n",
      "Name: 90, dtype: object\n",
      "City number 92 is, City    avarua\n",
      "Name: 91, dtype: object\n"
     ]
    }
   ],
   "source": [
    "n = 0\n",
    "keys = [\"clouds.all\", \"sys.country\", \"dt\", \"main.temp\", \"main.humidity\", \"coord.lat\", \"coord.lon\", \"main.temp_max\", \"wind.speed\"]\n",
    "weather_data = []\n",
    "for index, row in cities_df.iterrows():\n",
    "    n += 1\n",
    "    time.sleep(.250)\n",
    "    weather_data.append(owm.find_city(row[0], **settings)(keys))\n",
    "    print(f\"City number {n} is, {row}\")\n",
    "#time.sleep(1)\n",
    "#    if weather_data['cod'] == \"404\":\n",
    "#        print(f\"City, is not available\")\n",
    "\n"
   ]
  },
  {
   "cell_type": "raw",
   "metadata": {},
   "source": []
  },
  {
   "cell_type": "code",
   "execution_count": null,
   "metadata": {},
   "outputs": [],
   "source": [
    "weather_data"
   ]
  },
  {
   "cell_type": "code",
   "execution_count": null,
   "metadata": {},
   "outputs": [],
   "source": []
  },
  {
   "cell_type": "code",
   "execution_count": null,
   "metadata": {},
   "outputs": [],
   "source": [
    "summary = [\"clouds.all\", \"sys.country\", \"dt\", \"main.temp\", \"main.humidity\", \"coord.lat\", \"coord.lon\", \"main.temp_max\", \"wind.speed\"]\n",
    "cities = cities_dft['City'].values\n",
    "\n",
    "# Create a Pandas DataFrame with the results\n",
    "data = [for row in weather_data]\n",
    "column_names = ['Cloudiness', 'Country', 'Time', 'Temperature', 'Humidity', 'Lattitude', 'Longitude', 'Max Temp', 'Wind Speed']\n",
    "weather_data = pd.DataFrame(summary, index=cities, columns=column_names)\n",
    "weather_data.head()"
   ]
  },
  {
   "cell_type": "markdown",
   "metadata": {},
   "source": [
    "### Perform API Calls\n",
    "* Perform a weather check on each city using a series of successive API calls.\n",
    "* Include a print log of each city as it'sbeing processed (with the city number and city name).\n"
   ]
  },
  {
   "cell_type": "code",
   "execution_count": null,
   "metadata": {},
   "outputs": [],
   "source": [
    "#params = {\n",
    "#    \"City\": target_coordinates,\n",
    "#    \"Cloudiness\": target_search,\n",
    "#    \"Country\": target_radius,\n",
    "#    \"Date\": target_type,\n",
    "#    \"Humidity\": target_coordinates,\n",
    "#    \"Lat\": target_search,\n",
    "#    \"Lng\": target_radius,\n",
    "#    \"Max Temp\": target_type,\n",
    "#    \"Wind Speed\": target_type\n",
    "#}"
   ]
  },
  {
   "cell_type": "code",
   "execution_count": null,
   "metadata": {},
   "outputs": [],
   "source": [
    "settings = {\"units\": \"metric\", \"appid\": api_key}"
   ]
  },
  {
   "cell_type": "code",
   "execution_count": null,
   "metadata": {},
   "outputs": [],
   "source": [
    "current_weather_paris = owm.get_current(\"deputatskiy\", **settings)\n",
    "print(f\"Current weather object for Paris: {current_weather_paris}.\")"
   ]
  },
  {
   "cell_type": "code",
   "execution_count": null,
   "metadata": {},
   "outputs": [],
   "source": [
    "summary = [\"name\", \"clouds.all\", \"sys.country\", \"main.temp\", \"main.humidity\", \"coord.lat\", \"coord.lon\", \"main.temp_max\", \"wind.speed\" ]\n",
    "\n",
    "data = current_weather_paris(*summary)\n",
    "print(f\"The current weather summary for Paris is: {data}.\")"
   ]
  },
  {
   "cell_type": "code",
   "execution_count": null,
   "metadata": {},
   "outputs": [],
   "source": [
    "units = [\"metric\"]\n",
    "\n",
    "# set up list to hold two different temperatures\n",
    "temperatures = []\n",
    "\n",
    "# loop throught the list of units and append them to temperatures list\n",
    "for city in cities:\n",
    "    # Build query URL based on current element in units\n",
    "    query_url = url + \"appid=\" + api_key + \"&q=\" + \"&units=\" + unit\n",
    "\n",
    "    # Get weather data\n",
    "    weather_response = requests.get(query_url)\n",
    "    weather_json = weather_response.json()\n",
    "\n",
    "    # Get temperature from JSON response\n",
    "    temperature = weather_json[\"main\"][\"temp\"]\n",
    "\n",
    "    temperatures.append(temperature)\n",
    "\n",
    "# Report temperatures by accessing each element in the list\n",
    "print(\n",
    "    f\"The temperature in Bujumbura is {temperatures[0]}C or {temperatures[1]}F.\")"
   ]
  },
  {
   "cell_type": "code",
   "execution_count": null,
   "metadata": {},
   "outputs": [],
   "source": []
  },
  {
   "cell_type": "code",
   "execution_count": null,
   "metadata": {},
   "outputs": [],
   "source": []
  },
  {
   "cell_type": "markdown",
   "metadata": {},
   "source": [
    "### Convert Raw Data to DataFrame\n",
    "* Export the city data into a .csv.\n",
    "* Display the DataFrame"
   ]
  },
  {
   "cell_type": "code",
   "execution_count": null,
   "metadata": {},
   "outputs": [],
   "source": []
  },
  {
   "cell_type": "code",
   "execution_count": null,
   "metadata": {},
   "outputs": [],
   "source": []
  },
  {
   "cell_type": "markdown",
   "metadata": {},
   "source": [
    "### Plotting the Data\n",
    "* Use proper labeling of the plots using plot titles (including date of analysis) and axes labels.\n",
    "* Save the plotted figures as .pngs."
   ]
  },
  {
   "cell_type": "markdown",
   "metadata": {},
   "source": [
    "#### Latitude vs. Temperature Plot"
   ]
  },
  {
   "cell_type": "code",
   "execution_count": null,
   "metadata": {},
   "outputs": [],
   "source": []
  },
  {
   "cell_type": "markdown",
   "metadata": {},
   "source": [
    "#### Latitude vs. Humidity Plot"
   ]
  },
  {
   "cell_type": "code",
   "execution_count": null,
   "metadata": {},
   "outputs": [],
   "source": []
  },
  {
   "cell_type": "markdown",
   "metadata": {},
   "source": [
    "#### Latitude vs. Cloudiness Plot"
   ]
  },
  {
   "cell_type": "code",
   "execution_count": null,
   "metadata": {},
   "outputs": [],
   "source": []
  },
  {
   "cell_type": "markdown",
   "metadata": {},
   "source": [
    "#### Latitude vs. Wind Speed Plot"
   ]
  },
  {
   "cell_type": "code",
   "execution_count": null,
   "metadata": {},
   "outputs": [],
   "source": []
  },
  {
   "cell_type": "code",
   "execution_count": null,
   "metadata": {},
   "outputs": [],
   "source": []
  }
 ],
 "metadata": {
  "anaconda-cloud": {},
  "kernel_info": {
   "name": "python3"
  },
  "kernelspec": {
   "display_name": "Python 3",
   "language": "python",
   "name": "python3"
  },
  "language_info": {
   "codemirror_mode": {
    "name": "ipython",
    "version": 3
   },
   "file_extension": ".py",
   "mimetype": "text/x-python",
   "name": "python",
   "nbconvert_exporter": "python",
   "pygments_lexer": "ipython3",
   "version": "3.7.3"
  },
  "nteract": {
   "version": "0.12.3"
  }
 },
 "nbformat": 4,
 "nbformat_minor": 4
}
